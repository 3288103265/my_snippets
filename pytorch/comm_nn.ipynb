{
 "metadata": {
  "language_info": {
   "codemirror_mode": {
    "name": "ipython",
    "version": 3
   },
   "file_extension": ".py",
   "mimetype": "text/x-python",
   "name": "python",
   "nbconvert_exporter": "python",
   "pygments_lexer": "ipython3",
   "version": "3.8.5"
  },
  "orig_nbformat": 2,
  "kernelspec": {
   "name": "python3",
   "display_name": "Python 3.8.5 64-bit ('base': conda)"
  },
  "interpreter": {
   "hash": "98b0a9b7b4eaaa670588a142fd0a9b87eaafe866f1db4228be72b4211d12040f"
  }
 },
 "nbformat": 4,
 "nbformat_minor": 2,
 "cells": [
  {
   "cell_type": "code",
   "execution_count": 1,
   "source": [
    "import torch\n",
    "import torch.nn as nn"
   ],
   "outputs": [],
   "metadata": {}
  },
  {
   "cell_type": "markdown",
   "source": [
    "## Pooling Layers\n",
    "* nn.AvgPool2d(kernel_size,stride,padding): N C H W ---> N C $H_{out}$ $H_out$, like Conv over per chennel.\n",
    "* nn.AdaptiveAvgPool2d(output_size): N C H W ---> N C $H_out H_out$, adaptive set kernel size and stride.\n"
   ],
   "metadata": {}
  },
  {
   "cell_type": "code",
   "execution_count": 2,
   "source": [
    "# target output size of 5x7\n",
    "m = nn.AdaptiveAvgPool2d((5,7))\n",
    "input = torch.randn(1, 64, 8, 9)\n",
    "output = m(input)\n",
    "print(output.shape)\n",
    "\n",
    "# target output size of 7x7 (square)\n",
    "m = nn.AdaptiveAvgPool2d(7)\n",
    "input = torch.randn(1, 64, 10, 9)\n",
    "output = m(input)\n",
    "print(output.shape)\n",
    "\n",
    "# target output size of 10x7, None means the size will be the same as that of the input.\n",
    "m = nn.AdaptiveAvgPool2d((None, 7))\n",
    "input = torch.randn(1, 64, 10, 9)\n",
    "output = m(input)\n",
    "print(output.shape)\n"
   ],
   "outputs": [
    {
     "output_type": "stream",
     "name": "stdout",
     "text": [
      "torch.Size([1, 64, 5, 7])\n",
      "torch.Size([1, 64, 7, 7])\n",
      "torch.Size([1, 64, 10, 7])\n"
     ]
    }
   ],
   "metadata": {}
  },
  {
   "cell_type": "markdown",
   "source": [
    "## CosineSimilarity(dim, eps)\n",
    "* Input1: (∗1,D,∗2) where D is at position dim.\n",
    "* Input2: (∗1,D,∗2) where D is at position dim.\n",
    "* Output: (*1, *2)\n"
   ],
   "metadata": {}
  },
  {
   "cell_type": "code",
   "execution_count": 3,
   "source": [
    "## two dim\n",
    "import torch\n",
    "import torch.nn as nn\n",
    "\n",
    "a = torch.rand(3,100)\n",
    "b = torch.rand(3,100)\n",
    "cos = nn.CosineSimilarity(dim=0)\n",
    "res0 = cos(a, b)\n",
    "print(res0)\n",
    "\n",
    "cos = nn.CosineSimilarity(dim=1)\n",
    "res1 = cos(a, b)\n",
    "print(res1)\n",
    "## dim-wise的相似度计算"
   ],
   "outputs": [
    {
     "output_type": "stream",
     "name": "stdout",
     "text": [
      "tensor([0.9793, 0.8000, 0.5780, 0.8042, 0.8193, 0.5568, 0.3611, 0.9062, 0.9556,\n",
      "        0.7682, 0.8121, 0.9487, 0.6675, 0.9680, 0.8821, 0.9976, 0.9499, 0.9818,\n",
      "        0.8772, 0.8580, 0.7779, 0.8560, 0.5680, 0.9493, 0.9508, 0.9169, 0.9742,\n",
      "        0.9411, 0.6988, 0.6746, 0.6758, 0.9184, 0.7449, 0.9640, 0.2279, 0.9803,\n",
      "        0.9907, 0.8185, 0.8691, 0.5989, 0.9270, 0.7321, 0.7448, 0.9551, 0.4780,\n",
      "        0.7499, 0.9975, 0.6636, 0.9188, 0.5604, 0.9725, 0.9782, 0.6162, 0.8341,\n",
      "        0.7403, 0.9293, 0.6928, 0.7981, 0.5737, 0.9970, 0.9013, 0.6388, 0.8118,\n",
      "        0.9504, 0.5272, 0.5520, 0.3860, 0.7540, 0.8633, 0.8732, 0.5191, 0.4816,\n",
      "        0.9761, 0.8483, 0.7273, 0.9869, 0.9249, 0.2754, 0.6266, 0.9575, 0.7647,\n",
      "        0.9776, 0.4968, 0.6360, 0.3201, 0.9913, 0.8668, 0.7730, 0.9719, 0.8153,\n",
      "        0.9448, 0.3878, 0.8108, 0.7335, 0.7250, 0.3886, 0.9479, 0.8037, 0.7150,\n",
      "        0.3758])\n",
      "tensor([0.7251, 0.7421, 0.7795])\n"
     ]
    }
   ],
   "metadata": {}
  },
  {
   "cell_type": "code",
   "execution_count": 6,
   "source": [
    "## 得到协相似度矩阵,通过矩阵乘法，先normalize，然后矩阵相乘。\n",
    "co_sim = torch.mm(nn.functional.normalize(a, dim=1), nn.functional.normalize(b, dim=1).T)\n",
    "co_sim"
   ],
   "outputs": [
    {
     "output_type": "execute_result",
     "data": {
      "text/plain": [
       "tensor([[0.7251, 0.7790, 0.7843],\n",
       "        [0.7499, 0.7421, 0.7852],\n",
       "        [0.7814, 0.7744, 0.7795]])"
      ]
     },
     "metadata": {},
     "execution_count": 6
    }
   ],
   "metadata": {}
  },
  {
   "cell_type": "code",
   "execution_count": 10,
   "source": [
    "## 或着这么搞：\n",
    "co_sim2 = torch.nn.CosineSimilarity(dim=-1)(a.unsqueeze(1),b.unsqueeze(0))\n",
    "co_sim2"
   ],
   "outputs": [
    {
     "output_type": "execute_result",
     "data": {
      "text/plain": [
       "tensor([[0.7251, 0.7790, 0.7843],\n",
       "        [0.7499, 0.7421, 0.7852],\n",
       "        [0.7814, 0.7744, 0.7795]])"
      ]
     },
     "metadata": {},
     "execution_count": 10
    }
   ],
   "metadata": {}
  },
  {
   "cell_type": "code",
   "execution_count": 5,
   "source": [
    "# pooling对cos的影响\n",
    "c = nn.functional.avg_pool1d(a.unsqueeze(0), 2)\n",
    "d = nn.functional.avg_pool1d(b.unsqueeze(0), 2)\n",
    "cos = nn.CosineSimilarity(dim=1)\n",
    "res_pool = cos(a, b)\n",
    "print(res_pool)\n",
    "## pool不会影响相似度。错，会影响一些：【1，0】和【0，1】"
   ],
   "outputs": [
    {
     "output_type": "stream",
     "name": "stdout",
     "text": [
      "tensor([0.7251, 0.7421, 0.7795])\n"
     ]
    }
   ],
   "metadata": {}
  },
  {
   "cell_type": "code",
   "execution_count": 68,
   "source": [
    "import numpy as np\n",
    "import matplotlib.pyplot as plt\n",
    "\n",
    "a = np.arange(-10,10,0.2).tolist()\n",
    "def elu(e,beta=20):\n",
    "    return torch.nn.Sigmoid()(beta*torch.tensor(e))\n",
    "\n",
    "y = list(map(elu, a))\n",
    "plt.plot(a,y)\n",
    "plt.show()"
   ],
   "outputs": [
    {
     "output_type": "display_data",
     "data": {
      "text/plain": [
       "<Figure size 432x288 with 1 Axes>"
      ],
      "image/png": "[encoded data removed]"
     },
     "metadata": {
      "needs_background": "light"
     }
    }
   ],
   "metadata": {}
  },
  {
   "cell_type": "code",
   "execution_count": 67,
   "source": [
    "elu(0.1335)"
   ],
   "outputs": [
    {
     "output_type": "execute_result",
     "data": {
      "text/plain": [
       "tensor(0.8811)"
      ]
     },
     "metadata": {},
     "execution_count": 67
    }
   ],
   "metadata": {}
  }
 ]
}
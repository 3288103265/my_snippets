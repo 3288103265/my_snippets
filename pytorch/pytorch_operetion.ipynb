{
 "cells": [
  {
   "cell_type": "code",
   "execution_count": 1,
   "metadata": {},
   "outputs": [],
   "source": [
    "import torch\n",
    "import numpy as np"
   ]
  },
  {
   "source": [
    "* torch.unbind(tensor, dim=0)在某一维度上展开成list，list元素为对应维度上的切片（降低一维）\n",
    "* torch.chunk(tensor, chunks, dim=0)在某指定维度上分块\n",
    "* torch.split(tensor, split_size_or_selections, dim=0)在指定维度上拆分"
   ],
   "cell_type": "markdown",
   "metadata": {}
  },
  {
   "cell_type": "code",
   "execution_count": 2,
   "metadata": {},
   "outputs": [
    {
     "output_type": "stream",
     "name": "stdout",
     "text": [
      "3 torch.Size([4, 5])\n4 torch.Size([3, 5])\n5 torch.Size([3, 4])\n"
     ]
    }
   ],
   "source": [
    "dummy2 = torch.randint(10, size=(3,4,5))\n",
    "b0 = torch.unbind(dummy2)\n",
    "b1 = torch.unbind(dummy2, dim=1)\n",
    "b2 = torch.unbind(dummy2, dim=2)\n",
    "print(len(b0), b0[0].shape)\n",
    "print(len(b1), b1[0].shape)\n",
    "print(len(b2), b2[0].shape)"
   ]
  },
  {
   "cell_type": "code",
   "execution_count": 9,
   "metadata": {},
   "outputs": [
    {
     "output_type": "stream",
     "name": "stdout",
     "text": [
      "2\ntorch.Size([2, 4, 5]) torch.Size([1, 4, 5])\n4\ntorch.Size([3, 1, 5]) torch.Size([3, 1, 5]) torch.Size([3, 1, 5]) torch.Size([3, 1, 5])\n"
     ]
    }
   ],
   "source": [
    "d0 = torch.chunk(dummy2, chunks=2, dim=0)\n",
    "print(len(d0))\n",
    "print(d0[0].shape, d0[1].shape) # last chunk with shorter chunck size.\n",
    "\n",
    "d1 = torch.chunk(dummy2, chunks=4,dim=1)\n",
    "print(len(d1))\n",
    "print(d1[0].shape, d1[1].shape, d1[2].shape, d1[3].shape)"
   ]
  },
  {
   "cell_type": "code",
   "execution_count": 11,
   "metadata": {},
   "outputs": [
    {
     "output_type": "stream",
     "name": "stdout",
     "text": [
      "tensor([], size=(0, 4, 5), dtype=torch.int64)\n"
     ]
    }
   ],
   "source": [
    "s0 = torch.split(dummy2, [2,0,1])\n",
    "len(s0)\n",
    "print(s0[1])"
   ]
  },
  {
   "cell_type": "code",
   "execution_count": null,
   "metadata": {},
   "outputs": [],
   "source": []
  }
 ],
 "metadata": {
  "kernelspec": {
   "name": "python3",
   "display_name": "Python 3.6.10 64-bit ('pytorch': conda)",
   "metadata": {
    "interpreter": {
     "hash": "469179ff1c0d85ef80642ba6eef949dc4eb08aa593e5ce9c60d3b86db0c0e990"
    }
   }
  },
  "language_info": {
   "codemirror_mode": {
    "name": "ipython",
    "version": 3
   },
   "file_extension": ".py",
   "mimetype": "text/x-python",
   "name": "python",
   "nbconvert_exporter": "python",
   "pygments_lexer": "ipython3",
   "version": "3.6.10-final"
  }
 },
 "nbformat": 4,
 "nbformat_minor": 4
}
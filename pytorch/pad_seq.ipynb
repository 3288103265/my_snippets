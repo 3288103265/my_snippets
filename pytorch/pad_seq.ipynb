{
 "metadata": {
  "language_info": {
   "codemirror_mode": {
    "name": "ipython",
    "version": 3
   },
   "file_extension": ".py",
   "mimetype": "text/x-python",
   "name": "python",
   "nbconvert_exporter": "python",
   "pygments_lexer": "ipython3",
   "version": "3.6.10-final"
  },
  "orig_nbformat": 2,
  "kernelspec": {
   "name": "python3",
   "display_name": "Python 3.6.10 64-bit ('pytorch': conda)",
   "metadata": {
    "interpreter": {
     "hash": "469179ff1c0d85ef80642ba6eef949dc4eb08aa593e5ce9c60d3b86db0c0e990"
    }
   }
  }
 },
 "nbformat": 4,
 "nbformat_minor": 2,
 "cells": [
  {
   "source": [
    "## torch.nn.utils.rnn.pad_sequence(sequences, batch_first=False, padding_value=0.0)\n",
    "* input: list\\[tensor(seq_len1, dim), tensor(seq2, dim),...\\]\n",
    "* output: max_seq_len, batch_size, dim\n",
    "* To pad a list of variable length Tensors into a batch. Use by collate_fn"
   ],
   "cell_type": "markdown",
   "metadata": {}
  },
  {
   "cell_type": "code",
   "execution_count": 1,
   "metadata": {},
   "outputs": [],
   "source": [
    "import torch\n",
    "import torch.nn as nn"
   ]
  },
  {
   "cell_type": "code",
   "execution_count": 2,
   "metadata": {},
   "outputs": [],
   "source": [
    "a = torch.ones(25, 200)\n",
    "b = torch.ones(20,200)\n",
    "c = torch.ones(19,200)\n",
    "d = nn.utils.rnn.pad_sequence([a,b,c])\n",
    "assert d.shape == (25, 3, 200)"
   ]
  },
  {
   "cell_type": "code",
   "execution_count": null,
   "metadata": {},
   "outputs": [],
   "source": []
  }
 ]
}
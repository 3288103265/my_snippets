{
 "metadata": {
  "language_info": {
   "codemirror_mode": {
    "name": "ipython",
    "version": 3
   },
   "file_extension": ".py",
   "mimetype": "text/x-python",
   "name": "python",
   "nbconvert_exporter": "python",
   "pygments_lexer": "ipython3",
   "version": "3.8.5"
  },
  "orig_nbformat": 2,
  "kernelspec": {
   "name": "python385jvsc74a57bd098b0a9b7b4eaaa670588a142fd0a9b87eaafe866f1db4228be72b4211d12040f",
   "display_name": "Python 3.8.5 64-bit ('base': conda)"
  },
  "metadata": {
   "interpreter": {
    "hash": "98b0a9b7b4eaaa670588a142fd0a9b87eaafe866f1db4228be72b4211d12040f"
   }
  }
 },
 "nbformat": 4,
 "nbformat_minor": 2,
 "cells": [
  {
   "source": [
    "# torch.nn.utils\n",
    "* pack_padded_sequence: 针对已经padding的数据，进行压缩\n",
    "* pack_sequence:\n",
    "* pad_packed_sequence: 将packed的数据重新pad，扩展成原有维度。\n",
    "详细信息可以参考onenote笔记。"
   ],
   "cell_type": "code",
   "metadata": {},
   "execution_count": null,
   "outputs": []
  },
  {
   "cell_type": "code",
   "execution_count": 11,
   "metadata": {},
   "outputs": [
    {
     "output_type": "stream",
     "name": "stdout",
     "text": [
      "tensor([[1, 2, 3, 0, 0],\n        [1, 2, 0, 0, 0],\n        [1, 0, 0, 0, 0]]) tensor([3, 2, 1])\n<class 'torch.nn.utils.rnn.PackedSequence'>\ntensor([1, 1, 1, 2, 2, 3])\ntensor([3, 2, 1])\n"
     ]
    }
   ],
   "source": [
    "import torch \n",
    "import torch.nn as nn\n",
    "import torch.nn.functional as F \n",
    "\n",
    "from  torch.nn.utils.rnn import pack_padded_sequence\n",
    "# pack_padded_sequence: deal with padded_sequece\n",
    "# return a PackedSequence.\n",
    "\n",
    "a = torch.tensor([[1,2,3,0,0],\n",
    "                  [1,2,0,0,0], \n",
    "                  [1,0,0,0,0]])\n",
    "a_len = torch.tensor([3,2,1])\n",
    "\n",
    "print(a, a_len)\n",
    "\n",
    "packed = pack_padded_sequence(a, lengths=a_len, batch_first=True)\n",
    "print(type(packed))\n",
    "\n",
    "print(packed.data)\n",
    "# print(packed.__dir__())\n",
    "print(packed.batch_sizes)\n"
   ]
  },
  {
   "source": [
    "## pack_sequence: \n",
    "* Packs a list of variable length Tensors.\n",
    "* sequences should be a list of Tensors of size L x *, where L is the length of a sequence and * is any number of trailing dimensions, including zero.\n",
    "\n"
   ],
   "cell_type": "markdown",
   "metadata": {}
  },
  {
   "cell_type": "code",
   "execution_count": 3,
   "metadata": {},
   "outputs": [
    {
     "output_type": "execute_result",
     "data": {
      "text/plain": [
       "[tensor([0.0286]), tensor([0.5886, 0.7330]), tensor([0.0881, 0.2555, 0.9989])]"
      ]
     },
     "metadata": {},
     "execution_count": 3
    }
   ],
   "source": [
    "from torch.nn.utils.rnn import pack_sequence\n",
    "\n",
    "t_list = [torch.rand(n) for n in range(1,4)]\n",
    "print(t_list)\n",
    "b_pack = pack_sequence(t_list, enforce_sorted=False)\n",
    "b_pack\n",
    "# return PackedSequence object."
   ]
  },
  {
   "cell_type": "code",
   "execution_count": 10,
   "metadata": {},
   "outputs": [
    {
     "output_type": "execute_result",
     "data": {
      "text/plain": [
       "(tensor([[0.0286, 0.0000, 0.0000],\n",
       "         [0.5886, 0.7330, 0.0000],\n",
       "         [0.0881, 0.2555, 0.9989]]),\n",
       " tensor([1, 2, 3]))"
      ]
     },
     "metadata": {},
     "execution_count": 10
    }
   ],
   "source": [
    "from torch.nn.utils.rnn import pad_packed_sequence\n",
    "# 必须针对PackedSequence使用；对于变长序列，首先使用pack_sequence, 然后使用pad_packed_sequence\n",
    "b_unpack = pad_packed_sequence(b_pack, batch_first=True)\n",
    "b_unpack"
   ]
  },
  {
   "cell_type": "code",
   "execution_count": null,
   "metadata": {},
   "outputs": [],
   "source": []
  }
 ]
}